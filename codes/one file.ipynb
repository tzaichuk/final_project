{
 "cells": [
  {
   "cell_type": "code",
   "execution_count": 1,
   "metadata": {
    "collapsed": true
   },
   "outputs": [],
   "source": [
    "from __future__ import division\n",
    "import numpy as np\n",
    "import pandas as pd\n",
    "import matplotlib.pyplot as plt\n",
    "import scipy\n",
    "import scipy.optimize as opt;\n",
    "from scipy.optimize import curve_fit\n",
    "import pylab"
   ]
  },
  {
   "cell_type": "code",
   "execution_count": 4,
   "metadata": {
    "collapsed": true
   },
   "outputs": [],
   "source": [
    "# Create a reference to the CSV and import it into a Pandas DataFrame\n",
    "xls = pd.ExcelFile('raw_files/2_16_17jia_af.xlsx')\n",
    "df1 = pd.read_excel(xls, '0')\n",
    "df2 = pd.read_excel(xls, '-60')\n",
    "df3 = pd.read_excel(xls, '60')\n",
    "df4 = pd.read_excel(xls, '-50')\n",
    "df5 = pd.read_excel(xls, '50')\n",
    "df6 = pd.read_excel(xls, '-40')\n",
    "df7 = pd.read_excel(xls, '40')\n",
    "df8 = pd.read_excel(xls, 'F')"
   ]
  },
  {
   "cell_type": "code",
   "execution_count": 5,
   "metadata": {},
   "outputs": [
    {
     "data": {
      "text/html": [
       "<div>\n",
       "<style>\n",
       "    .dataframe thead tr:only-child th {\n",
       "        text-align: right;\n",
       "    }\n",
       "\n",
       "    .dataframe thead th {\n",
       "        text-align: left;\n",
       "    }\n",
       "\n",
       "    .dataframe tbody tr th {\n",
       "        vertical-align: top;\n",
       "    }\n",
       "</style>\n",
       "<table border=\"1\" class=\"dataframe\">\n",
       "  <thead>\n",
       "    <tr style=\"text-align: right;\">\n",
       "      <th></th>\n",
       "      <th>[Time</th>\n",
       "      <th>MagPos</th>\n",
       "      <th>RotState</th>\n",
       "      <th>AFZ_current</th>\n",
       "    </tr>\n",
       "  </thead>\n",
       "  <tbody>\n",
       "    <tr>\n",
       "      <th>0</th>\n",
       "      <td>3246.488</td>\n",
       "      <td>1280</td>\n",
       "      <td>0</td>\n",
       "      <td>2.1131</td>\n",
       "    </tr>\n",
       "    <tr>\n",
       "      <th>1</th>\n",
       "      <td>3250.544</td>\n",
       "      <td>1280</td>\n",
       "      <td>0</td>\n",
       "      <td>2.3335</td>\n",
       "    </tr>\n",
       "    <tr>\n",
       "      <th>2</th>\n",
       "      <td>3254.548</td>\n",
       "      <td>1280</td>\n",
       "      <td>0</td>\n",
       "      <td>2.0945</td>\n",
       "    </tr>\n",
       "    <tr>\n",
       "      <th>3</th>\n",
       "      <td>3258.586</td>\n",
       "      <td>1280</td>\n",
       "      <td>0</td>\n",
       "      <td>2.3367</td>\n",
       "    </tr>\n",
       "    <tr>\n",
       "      <th>4</th>\n",
       "      <td>3262.606</td>\n",
       "      <td>1280</td>\n",
       "      <td>0</td>\n",
       "      <td>2.2485</td>\n",
       "    </tr>\n",
       "  </tbody>\n",
       "</table>\n",
       "</div>"
      ],
      "text/plain": [
       "      [Time  MagPos  RotState  AFZ_current\n",
       "0  3246.488    1280         0       2.1131\n",
       "1  3250.544    1280         0       2.3335\n",
       "2  3254.548    1280         0       2.0945\n",
       "3  3258.586    1280         0       2.3367\n",
       "4  3262.606    1280         0       2.2485"
      ]
     },
     "execution_count": 5,
     "metadata": {},
     "output_type": "execute_result"
    }
   ],
   "source": [
    "df1.head()"
   ]
  },
  {
   "cell_type": "code",
   "execution_count": 6,
   "metadata": {},
   "outputs": [
    {
     "data": {
      "text/html": [
       "<div>\n",
       "<style>\n",
       "    .dataframe thead tr:only-child th {\n",
       "        text-align: right;\n",
       "    }\n",
       "\n",
       "    .dataframe thead th {\n",
       "        text-align: left;\n",
       "    }\n",
       "\n",
       "    .dataframe tbody tr th {\n",
       "        vertical-align: top;\n",
       "    }\n",
       "</style>\n",
       "<table border=\"1\" class=\"dataframe\">\n",
       "  <thead>\n",
       "    <tr style=\"text-align: right;\">\n",
       "      <th></th>\n",
       "      <th>[Time</th>\n",
       "      <th>MagPos</th>\n",
       "      <th>RotState</th>\n",
       "      <th>AFZ_current</th>\n",
       "    </tr>\n",
       "  </thead>\n",
       "  <tbody>\n",
       "    <tr>\n",
       "      <th>0</th>\n",
       "      <td>7366.160</td>\n",
       "      <td>1280</td>\n",
       "      <td>-60</td>\n",
       "      <td>0.2225</td>\n",
       "    </tr>\n",
       "    <tr>\n",
       "      <th>1</th>\n",
       "      <td>7370.228</td>\n",
       "      <td>1280</td>\n",
       "      <td>-60</td>\n",
       "      <td>0.0341</td>\n",
       "    </tr>\n",
       "    <tr>\n",
       "      <th>2</th>\n",
       "      <td>7374.273</td>\n",
       "      <td>1280</td>\n",
       "      <td>-60</td>\n",
       "      <td>0.0618</td>\n",
       "    </tr>\n",
       "    <tr>\n",
       "      <th>3</th>\n",
       "      <td>7378.305</td>\n",
       "      <td>1280</td>\n",
       "      <td>-60</td>\n",
       "      <td>0.2366</td>\n",
       "    </tr>\n",
       "    <tr>\n",
       "      <th>4</th>\n",
       "      <td>7382.600</td>\n",
       "      <td>1280</td>\n",
       "      <td>-60</td>\n",
       "      <td>0.1961</td>\n",
       "    </tr>\n",
       "  </tbody>\n",
       "</table>\n",
       "</div>"
      ],
      "text/plain": [
       "      [Time  MagPos  RotState  AFZ_current\n",
       "0  7366.160    1280       -60       0.2225\n",
       "1  7370.228    1280       -60       0.0341\n",
       "2  7374.273    1280       -60       0.0618\n",
       "3  7378.305    1280       -60       0.2366\n",
       "4  7382.600    1280       -60       0.1961"
      ]
     },
     "execution_count": 6,
     "metadata": {},
     "output_type": "execute_result"
    }
   ],
   "source": [
    "df2.head()"
   ]
  },
  {
   "cell_type": "code",
   "execution_count": 7,
   "metadata": {},
   "outputs": [
    {
     "data": {
      "text/html": [
       "<div>\n",
       "<style>\n",
       "    .dataframe thead tr:only-child th {\n",
       "        text-align: right;\n",
       "    }\n",
       "\n",
       "    .dataframe thead th {\n",
       "        text-align: left;\n",
       "    }\n",
       "\n",
       "    .dataframe tbody tr th {\n",
       "        vertical-align: top;\n",
       "    }\n",
       "</style>\n",
       "<table border=\"1\" class=\"dataframe\">\n",
       "  <thead>\n",
       "    <tr style=\"text-align: right;\">\n",
       "      <th></th>\n",
       "      <th>MagPos</th>\n",
       "      <th>Force_Fourier</th>\n",
       "      <th>error</th>\n",
       "    </tr>\n",
       "  </thead>\n",
       "  <tbody>\n",
       "    <tr>\n",
       "      <th>0</th>\n",
       "      <td>1800</td>\n",
       "      <td>12.4371</td>\n",
       "      <td>0.3730</td>\n",
       "    </tr>\n",
       "    <tr>\n",
       "      <th>1</th>\n",
       "      <td>1750</td>\n",
       "      <td>8.6893</td>\n",
       "      <td>0.2605</td>\n",
       "    </tr>\n",
       "    <tr>\n",
       "      <th>2</th>\n",
       "      <td>1700</td>\n",
       "      <td>5.3461</td>\n",
       "      <td>0.1603</td>\n",
       "    </tr>\n",
       "    <tr>\n",
       "      <th>3</th>\n",
       "      <td>1650</td>\n",
       "      <td>4.1863</td>\n",
       "      <td>0.1255</td>\n",
       "    </tr>\n",
       "    <tr>\n",
       "      <th>4</th>\n",
       "      <td>1600</td>\n",
       "      <td>2.3071</td>\n",
       "      <td>0.0692</td>\n",
       "    </tr>\n",
       "    <tr>\n",
       "      <th>5</th>\n",
       "      <td>1550</td>\n",
       "      <td>1.6149</td>\n",
       "      <td>0.0484</td>\n",
       "    </tr>\n",
       "    <tr>\n",
       "      <th>6</th>\n",
       "      <td>1500</td>\n",
       "      <td>1.5037</td>\n",
       "      <td>0.0451</td>\n",
       "    </tr>\n",
       "    <tr>\n",
       "      <th>7</th>\n",
       "      <td>1450</td>\n",
       "      <td>0.9695</td>\n",
       "      <td>0.0291</td>\n",
       "    </tr>\n",
       "    <tr>\n",
       "      <th>8</th>\n",
       "      <td>1400</td>\n",
       "      <td>0.9286</td>\n",
       "      <td>0.0278</td>\n",
       "    </tr>\n",
       "    <tr>\n",
       "      <th>9</th>\n",
       "      <td>1350</td>\n",
       "      <td>0.6254</td>\n",
       "      <td>0.0187</td>\n",
       "    </tr>\n",
       "    <tr>\n",
       "      <th>10</th>\n",
       "      <td>1300</td>\n",
       "      <td>0.4706</td>\n",
       "      <td>0.0130</td>\n",
       "    </tr>\n",
       "    <tr>\n",
       "      <th>11</th>\n",
       "      <td>1250</td>\n",
       "      <td>0.3611</td>\n",
       "      <td>0.0108</td>\n",
       "    </tr>\n",
       "    <tr>\n",
       "      <th>12</th>\n",
       "      <td>1200</td>\n",
       "      <td>0.2205</td>\n",
       "      <td>0.0056</td>\n",
       "    </tr>\n",
       "    <tr>\n",
       "      <th>13</th>\n",
       "      <td>1150</td>\n",
       "      <td>0.1558</td>\n",
       "      <td>0.0042</td>\n",
       "    </tr>\n",
       "    <tr>\n",
       "      <th>14</th>\n",
       "      <td>1100</td>\n",
       "      <td>0.2057</td>\n",
       "      <td>0.0062</td>\n",
       "    </tr>\n",
       "    <tr>\n",
       "      <th>15</th>\n",
       "      <td>1050</td>\n",
       "      <td>0.1483</td>\n",
       "      <td>0.0040</td>\n",
       "    </tr>\n",
       "    <tr>\n",
       "      <th>16</th>\n",
       "      <td>1000</td>\n",
       "      <td>0.0849</td>\n",
       "      <td>0.0025</td>\n",
       "    </tr>\n",
       "  </tbody>\n",
       "</table>\n",
       "</div>"
      ],
      "text/plain": [
       "    MagPos  Force_Fourier   error\n",
       "0     1800        12.4371  0.3730\n",
       "1     1750         8.6893  0.2605\n",
       "2     1700         5.3461  0.1603\n",
       "3     1650         4.1863  0.1255\n",
       "4     1600         2.3071  0.0692\n",
       "5     1550         1.6149  0.0484\n",
       "6     1500         1.5037  0.0451\n",
       "7     1450         0.9695  0.0291\n",
       "8     1400         0.9286  0.0278\n",
       "9     1350         0.6254  0.0187\n",
       "10    1300         0.4706  0.0130\n",
       "11    1250         0.3611  0.0108\n",
       "12    1200         0.2205  0.0056\n",
       "13    1150         0.1558  0.0042\n",
       "14    1100         0.2057  0.0062\n",
       "15    1050         0.1483  0.0040\n",
       "16    1000         0.0849  0.0025"
      ]
     },
     "execution_count": 7,
     "metadata": {},
     "output_type": "execute_result"
    }
   ],
   "source": [
    "df8.head(100)"
   ]
  },
  {
   "cell_type": "code",
   "execution_count": 8,
   "metadata": {},
   "outputs": [
    {
     "data": {
      "text/plain": [
       "array([  5.93323381e-03,  -8.43357348e+00])"
      ]
     },
     "execution_count": 8,
     "metadata": {},
     "output_type": "execute_result"
    }
   ],
   "source": [
    "x = np.array([1800,1750,1700,1650,1600,1550,1500,1450,1400,1350,1300,1250,1200,1150,1100,1050,1000])\n",
    "y = np.array([12.4371,8.6893,5.3461,4.1863,2.3071,1.6149,1.5037,0.9695,0.9286,0.6254,0.4706,0.3611,0.2205,0.1558,0.2057,0.1483,0.0849])\n",
    "np.polyfit(x, np.log(y), 1)\n",
    "## y ≈ exp(-8.43e+00) * exp(5.93e-03 * x),  y= 0.00022* exp(5.93e-03 * x)\n",
    "# biased towards small values, fitting (log y) as if it is linear will emphasize small values of y, \n",
    "#causing large deviation for large y.)\n",
    "#This could be alleviated by giving each entry a \"weight\" proportional to y. \n",
    "#polyfit supports weighted-least-squares via the w keyword argument"
   ]
  },
  {
   "cell_type": "code",
   "execution_count": 9,
   "metadata": {},
   "outputs": [
    {
     "data": {
      "text/plain": [
       "array([  6.67793265e-03,  -9.57214735e+00])"
      ]
     },
     "execution_count": 9,
     "metadata": {},
     "output_type": "execute_result"
    }
   ],
   "source": [
    "np.polyfit(x, np.log(y), 1, w=np.sqrt(y))\n",
    "# better? not really\n",
    "#y ≈ exp(-9.57e+00) * exp(6.68 * x),  y= 6.98E-05* exp(6.68 * x)\n",
    "#Excel use the unweighted (biased) formula for the exponential regression / trend lines"
   ]
  },
  {
   "cell_type": "code",
   "execution_count": 10,
   "metadata": {},
   "outputs": [
    {
     "data": {
      "text/plain": [
       "[<matplotlib.lines.Line2D at 0x6e0c199da0>]"
      ]
     },
     "execution_count": 10,
     "metadata": {},
     "output_type": "execute_result"
    }
   ],
   "source": [
    "def f(y):\n",
    "    return 6.98E-05 * np.exp(6.68 * x)\n",
    "pylab.plot(x,y)\n"
   ]
  },
  {
   "cell_type": "code",
   "execution_count": 11,
   "metadata": {},
   "outputs": [
    {
     "data": {
      "text/plain": [
       "(array([-100.6429442 ,   14.25069237]), array([[ 534.52037664,  -73.90116953],\n",
       "        [ -73.90116953,   10.22360783]]))"
      ]
     },
     "execution_count": 11,
     "metadata": {},
     "output_type": "execute_result"
    }
   ],
   "source": [
    "#For y = A + B log x\n",
    "x = np.array([1800,1750,1700,1650,1600,1550,1500,1450,1400,1350,1300,1250,1200,1150,1100,1050,1000])\n",
    "y = np.array([12.4371,8.6893,5.3461,4.1863,2.3071,1.6149,1.5037,0.9695,0.9286,0.6254,0.4706,0.3611,0.2205,0.1558,0.2057,0.1483,0.0849])\n",
    "scipy.optimize.curve_fit(lambda t,a,b: a+b*np.log(t),  x,  y)\n",
    "#y ≈ -100.6 + 14.25 log(x)"
   ]
  },
  {
   "cell_type": "code",
   "execution_count": 12,
   "metadata": {},
   "outputs": [
    {
     "data": {
      "text/plain": [
       "(array([  5.59075251e-14,   9.99999999e-02]),\n",
       " array([[  5.94781191e-21,  -7.49995298e-18],\n",
       "        [ -7.49995298e-18,   9.45714114e-15]]))"
      ]
     },
     "execution_count": 12,
     "metadata": {},
     "output_type": "execute_result"
    }
   ],
   "source": [
    "#For y = AeBx\n",
    "x = np.array([1800,1750,1700,1650,1600,1550,1500,1450,1400,1350,1300,1250,1200,1150,1100,1050,1000])\n",
    "y = np.array([12.4371,8.6893,5.3461,4.1863,2.3071,1.6149,1.5037,0.9695,0.9286,0.6254,0.4706,0.3611,0.2205,0.1558,0.2057,0.1483,0.0849])\n",
    "#scipy.optimize.curve_fit(lambda t,a,b: a*np.exp(b*t),  x,  y)\n",
    "scipy.optimize.curve_fit(lambda t,a,b: a*np.exp(b*t),  x,  y,  p0=(4, 0.1))"
   ]
  },
  {
   "cell_type": "code",
   "execution_count": 13,
   "metadata": {},
   "outputs": [
    {
     "data": {
      "image/png": "[encoded data removed]",
      "text/plain": [
       "<matplotlib.figure.Figure at 0x6e0eeab550>"
      ]
     },
     "metadata": {},
     "output_type": "display_data"
    }
   ],
   "source": [
    "x = df8.MagPos.unique()\n",
    "y = df8.Force_Fourier.unique()\n",
    "plt.scatter(x,y)\n",
    "plt.legend(loc='force_calibration')\n",
    "plt.ylabel('Force, pN')\n",
    "plt.xlabel('Magnet_position')\n",
    "plt.grid()\n",
    "plt.show()\n",
    "plt.savefig(\"Force_calibration.png\")"
   ]
  },
  {
   "cell_type": "code",
   "execution_count": 14,
   "metadata": {},
   "outputs": [
    {
     "data": {
      "image/png": "[encoded data removed]",
      "text/plain": [
       "<matplotlib.figure.Figure at 0x6e08439208>"
      ]
     },
     "metadata": {},
     "output_type": "display_data"
    }
   ],
   "source": [
    "plt.plot(x, y, \".\", label=\"Data\");\n",
    "plt.show()"
   ]
  },
  {
   "cell_type": "code",
   "execution_count": 49,
   "metadata": {},
   "outputs": [
    {
     "name": "stderr",
     "output_type": "stream",
     "text": [
      "C:\\Users\\Serguei\\Anaconda3\\lib\\site-packages\\ipykernel_launcher.py:2: RuntimeWarning: overflow encountered in exp\n",
      "  \n"
     ]
    },
    {
     "ename": "RuntimeError",
     "evalue": "Optimal parameters not found: Number of calls to function has reached maxfev = 800.",
     "output_type": "error",
     "traceback": [
      "\u001b[1;31m---------------------------------------------------------------------------\u001b[0m",
      "\u001b[1;31mRuntimeError\u001b[0m                              Traceback (most recent call last)",
      "\u001b[1;32m<ipython-input-49-ae30c6e6643b>\u001b[0m in \u001b[0;36m<module>\u001b[1;34m()\u001b[0m\n\u001b[1;32m----> 1\u001b[1;33m \u001b[0mpopt\u001b[0m\u001b[1;33m,\u001b[0m \u001b[0mpcov\u001b[0m \u001b[1;33m=\u001b[0m \u001b[0mcurve_fit\u001b[0m\u001b[1;33m(\u001b[0m\u001b[0mfunc\u001b[0m\u001b[1;33m,\u001b[0m \u001b[0mx\u001b[0m\u001b[1;33m,\u001b[0m \u001b[0my\u001b[0m\u001b[1;33m)\u001b[0m\u001b[1;33m\u001b[0m\u001b[0m\n\u001b[0m\u001b[0;32m      2\u001b[0m \u001b[0mplt\u001b[0m\u001b[1;33m.\u001b[0m\u001b[0mplot\u001b[0m\u001b[1;33m(\u001b[0m\u001b[0mx\u001b[0m\u001b[1;33m,\u001b[0m \u001b[0mfunc\u001b[0m\u001b[1;33m(\u001b[0m\u001b[0mx\u001b[0m\u001b[1;33m,\u001b[0m \u001b[1;33m*\u001b[0m\u001b[0mpopt\u001b[0m\u001b[1;33m)\u001b[0m\u001b[1;33m,\u001b[0m \u001b[1;34m'r-'\u001b[0m\u001b[1;33m,\u001b[0m \u001b[0mlabel\u001b[0m\u001b[1;33m=\u001b[0m\u001b[1;34m'fit'\u001b[0m\u001b[1;33m)\u001b[0m\u001b[1;33m\u001b[0m\u001b[0m\n",
      "\u001b[1;32m~\\Anaconda3\\lib\\site-packages\\scipy\\optimize\\minpack.py\u001b[0m in \u001b[0;36mcurve_fit\u001b[1;34m(f, xdata, ydata, p0, sigma, absolute_sigma, check_finite, bounds, method, jac, **kwargs)\u001b[0m\n\u001b[0;32m    738\u001b[0m         \u001b[0mcost\u001b[0m \u001b[1;33m=\u001b[0m \u001b[0mnp\u001b[0m\u001b[1;33m.\u001b[0m\u001b[0msum\u001b[0m\u001b[1;33m(\u001b[0m\u001b[0minfodict\u001b[0m\u001b[1;33m[\u001b[0m\u001b[1;34m'fvec'\u001b[0m\u001b[1;33m]\u001b[0m \u001b[1;33m**\u001b[0m \u001b[1;36m2\u001b[0m\u001b[1;33m)\u001b[0m\u001b[1;33m\u001b[0m\u001b[0m\n\u001b[0;32m    739\u001b[0m         \u001b[1;32mif\u001b[0m \u001b[0mier\u001b[0m \u001b[1;32mnot\u001b[0m \u001b[1;32min\u001b[0m \u001b[1;33m[\u001b[0m\u001b[1;36m1\u001b[0m\u001b[1;33m,\u001b[0m \u001b[1;36m2\u001b[0m\u001b[1;33m,\u001b[0m \u001b[1;36m3\u001b[0m\u001b[1;33m,\u001b[0m \u001b[1;36m4\u001b[0m\u001b[1;33m]\u001b[0m\u001b[1;33m:\u001b[0m\u001b[1;33m\u001b[0m\u001b[0m\n\u001b[1;32m--> 740\u001b[1;33m             \u001b[1;32mraise\u001b[0m \u001b[0mRuntimeError\u001b[0m\u001b[1;33m(\u001b[0m\u001b[1;34m\"Optimal parameters not found: \"\u001b[0m \u001b[1;33m+\u001b[0m \u001b[0merrmsg\u001b[0m\u001b[1;33m)\u001b[0m\u001b[1;33m\u001b[0m\u001b[0m\n\u001b[0m\u001b[0;32m    741\u001b[0m     \u001b[1;32melse\u001b[0m\u001b[1;33m:\u001b[0m\u001b[1;33m\u001b[0m\u001b[0m\n\u001b[0;32m    742\u001b[0m         \u001b[1;31m# Rename maxfev (leastsq) to max_nfev (least_squares), if specified.\u001b[0m\u001b[1;33m\u001b[0m\u001b[1;33m\u001b[0m\u001b[0m\n",
      "\u001b[1;31mRuntimeError\u001b[0m: Optimal parameters not found: Number of calls to function has reached maxfev = 800."
     ]
    }
   ],
   "source": [
    " popt, pcov = curve_fit(func, x, y)\n",
    " plt.plot(x, func(x, *popt), 'r-', label='fit')"
   ]
  },
  {
   "cell_type": "code",
   "execution_count": 37,
   "metadata": {},
   "outputs": [
    {
     "name": "stdout",
     "output_type": "stream",
     "text": [
      "        count      mean       std     min       25%      50%       75%     max\n",
      "MagPos                                                                        \n",
      "1280     13.0  2.244869  0.216220  1.8526  2.113100  2.27880  2.336700  2.6584\n",
      "1300     11.0  2.345700  0.258975  1.8527  2.260350  2.35010  2.511500  2.6757\n",
      "1320     10.0  2.405100  0.200024  2.0339  2.274600  2.45250  2.542000  2.6627\n",
      "1340     10.0  2.386910  0.175506  2.0421  2.270400  2.44250  2.520025  2.6001\n",
      "1360     10.0  2.180540  0.226929  1.8752  2.048000  2.10450  2.379575  2.5343\n",
      "1380     10.0  2.226350  0.148101  2.0766  2.143075  2.18265  2.288450  2.5676\n",
      "1400     10.0  2.203180  0.150206  1.9744  2.097575  2.19705  2.288525  2.4519\n",
      "1420     10.0  2.283780  0.105898  2.1404  2.233650  2.25250  2.321050  2.4885\n",
      "1440     11.0  2.363636  0.067939  2.2101  2.350250  2.36170  2.397450  2.4743\n",
      "1460     10.0  2.378270  0.090528  2.2329  2.343925  2.37050  2.425550  2.5457\n",
      "1480     22.0  2.319609  0.061990  2.2464  2.270875  2.31080  2.335325  2.4757\n",
      "1800      6.0  2.623500  0.062230  2.5340  2.583300  2.62965  2.674950  2.6898\n"
     ]
    }
   ],
   "source": [
    "#group excel file by Magnet Position\n",
    "df0=df1['AFZ_current'].groupby(df1['MagPos'])\n",
    "#print descriptive statistics mean, stdev, median, min,max\n",
    "print(df0.describe())\n"
   ]
  },
  {
   "cell_type": "code",
   "execution_count": null,
   "metadata": {
    "collapsed": true
   },
   "outputs": [],
   "source": []
  }
 ],
 "metadata": {
  "kernelspec": {
   "display_name": "Python 3",
   "language": "python",
   "name": "python3"
  },
  "language_info": {
   "codemirror_mode": {
    "name": "ipython",
    "version": 3
   },
   "file_extension": ".py",
   "mimetype": "text/x-python",
   "name": "python",
   "nbconvert_exporter": "python",
   "pygments_lexer": "ipython3",
   "version": "3.6.3"
  }
 },
 "nbformat": 4,
 "nbformat_minor": 2
}
